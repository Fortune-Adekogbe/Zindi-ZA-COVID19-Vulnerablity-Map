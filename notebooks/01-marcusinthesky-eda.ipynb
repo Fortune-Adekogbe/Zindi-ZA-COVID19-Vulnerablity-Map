{
 "cells": [
  {
   "cell_type": "code",
   "execution_count": null,
   "metadata": {
    "lines_to_next_cell": 2
   },
   "outputs": [],
   "source": [
    "import pandas as pd\n",
    "import numpy as np\n",
    "import holoviews as hv\n",
    "import hvplot.pandas\n",
    "\n",
    "from sklearn.pipeline import Pipeline\n",
    "from sklearn.preprocessing import StandardScaler, PolynomialFeatures, FunctionTransformer\n",
    "from sklearn.decomposition import PCA\n",
    "from sklearn.model_selection import RandomizedSearchCV\n",
    "from sklearn.compose import TransformedTargetRegressor, ColumnTransformer\n",
    "from sklearn.metrics import get_scorer\n",
    "from pyearth import Earth\n",
    "\n",
    "from za_covid_map.linear_model import TweedieGLM\n",
    "from za_covid_map.mca import MCA\n",
    "\n",
    "hv.extension('bokeh')"
   ]
  },
  {
   "cell_type": "code",
   "execution_count": null,
   "metadata": {},
   "outputs": [],
   "source": [
    "train = context.catalog.load('train_maskedv2')\n",
    "test = context.catalog.load('test_maskedv2')\n",
    "     = context.catalog.load('variable_descriptions_v2')\n",
    "sample_submission = context.catalog.load('samplesubmissionv2')"
   ]
  },
  {
   "cell_type": "code",
   "execution_count": null,
   "metadata": {
    "lines_to_next_cell": 2
   },
   "outputs": [],
   "source": [
    "train.target_pct_vunerable.hvplot.kde()"
   ]
  },
  {
   "cell_type": "code",
   "execution_count": null,
   "metadata": {},
   "outputs": [],
   "source": [
    "transformer = Pipeline([('poly', PolynomialFeatures()),\n",
    "                        ('scale', StandardScaler()),\n",
    "                        ('pca', PCA(15)),\n",
    "                        ('rescale', StandardScaler())])\n",
    "\n",
    "glm = TweedieGLM(power=0, max_iter=1000)\n",
    "mars = Earth()      \n",
    "model = Pipeline([('transformer', transformer),\n",
    "                  ('model', mars)])\n",
    "\n",
    "offset = 1e-9\n",
    "def add(y):\n",
    "    return (y/100 + offset)\n",
    "\n",
    "def subtract(y):\n",
    "    return ((y) - offset)*100\n",
    "\n",
    "\n",
    "link = Pipeline([('function', FunctionTransformer(add, subtract, validate=True))])\n",
    "scorer = get_scorer('neg_root_mean_squared_error')\n",
    "\n",
    "pipeline = TransformedTargetRegressor(regressor=model, transformer=link)\n",
    "\n"
   ]
  },
  {
   "cell_type": "code",
   "execution_count": null,
   "metadata": {
    "lines_to_next_cell": 2
   },
   "outputs": [],
   "source": [
    "glm_params = {'regressor__model__power': [0, 2, 3],\n",
    "          'regressor__model__alpha': [1e-3, 1e-1, 1],\n",
    "          'regressor__transformer__pca__n_components': [10, 25, 45]}\n",
    "\n",
    "mars_params = {'regressor__model__max_degree': [1, 2],\n",
    "          'regressor__model__max_terms': [15, 20],\n",
    "          'regressor__transformer__pca__n_components': [10, 25],\n",
    "          'regressor__transformer__poly__degree': [1]}\n",
    "\n",
    "search = RandomizedSearchCV(pipeline, mars_params, scoring=scorer, \n",
    "n_iter = 5, n_jobs=-1, return_train_score=True)\n",
    "\n",
    "X_train, y_train = train.drop(columns=['target_pct_vunerable', 'ward']), train.target_pct_vunerable\n",
    "\n",
    "search.fit(X_train, y_train)\n",
    "\n",
    "results = pd.DataFrame(search.cv_results_)\n",
    "context.io.save('searchresults', results)"
   ]
  },
  {
   "cell_type": "code",
   "execution_count": null,
   "metadata": {},
   "outputs": [],
   "source": [
    "X_test = test.loc[:, X_train.columns]"
   ]
  },
  {
   "cell_type": "code",
   "execution_count": null,
   "metadata": {
    "lines_to_next_cell": 2
   },
   "outputs": [],
   "source": [
    "# predict and plot\n",
    "y_pred = pd.Series(search.predict(X_test), name = y_train.name).clip(0, 100)\n",
    "submissionkde = y_pred.hvplot.kde()"
   ]
  },
  {
   "cell_type": "code",
   "execution_count": null,
   "metadata": {},
   "outputs": [],
   "source": [
    "# format submission\n",
    "submission = sample_submission\n",
    "submission.target_pct_vunerable = y_pred\n",
    "\n",
    "context.io.save('submission', submission)"
   ]
  },
  {
   "cell_type": "code",
   "execution_count": null,
   "metadata": {
    "lines_to_next_cell": 2
   },
   "outputs": [],
   "source": [
    "results.sort_values('mean_test_score').tail()"
   ]
  }
 ],
 "metadata": {
  "jupytext": {
   "cell_metadata_filter": "-all",
   "main_language": "python",
   "notebook_metadata_filter": "-all"
  }
 },
 "nbformat": 4,
 "nbformat_minor": 4
}
